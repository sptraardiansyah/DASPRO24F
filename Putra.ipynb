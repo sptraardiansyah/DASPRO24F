{
 "cells": [
  {
   "cell_type": "code",
   "execution_count": null,
   "id": "04f6ca31-d220-4f18-acf6-36bdae73b651",
   "metadata": {},
   "outputs": [],
   "source": [
    "<center><img src=\"https://logos-world.net/wp-content/uploads/2021/10/Python-Symbol.png\" width=\"200\"></center><br>Jenis Cell di <b>Jupyter Notebooks</b> ada 2?\n",
    "<ol>\n",
    "    <li>Mark Down (M)</1>\n",
    "    <li>Code (Y)<li>\n",
    "</ol>\n",
    "<hr>"
   ]
  },
  {
   "cell_type": "markdown",
   "id": "e6c42947-1668-4fd9-b61d-9261aca019a0",
   "metadata": {},
   "source": [
    "Cara menambah Cell ada 2:\n",
    "<ul>\n",
    "    <li>Above (A)</li>\n",
    "    <li>Below (B)</li>\n",
    "</ul>\n",
    "\n",
    "<table>\n",
    "    <tr>\n",
    "        <th>Perintah</td>\n",
    "        <th>Keterangan</td>\n",
    "    </tr>\n",
    "    <tr>\n",
    "        <td>ctrl + enter</td>\n",
    "        <td>Running dan fokus di cell</td>\n",
    "    </tr>\n",
    "    <tr>\n",
    "        <td>Shift + enter</td>\n",
    "        <td>Running dan fokus di cell beriukutnya</td>\n",
    "    </tr>\n",
    "</table>"
   ]
  },
  {
   "cell_type": "code",
   "execution_count": null,
   "id": "53e76844-eeeb-42f1-9bfc-7f7abbdc555d",
   "metadata": {},
   "outputs": [],
   "source": []
  },
  {
   "cell_type": "code",
   "execution_count": null,
   "id": "b91f7a24-9df4-4a80-83c5-f5ffa9a25edf",
   "metadata": {},
   "outputs": [],
   "source": [
    "print(\"Python is very easy\")\n",
    "data = 5 \n",
    "data2 = 10\n",
    "print(data)\n",
    "print(\"Sekarang hari jum'at\")\n",
    "print('Deklarasikan variabel \"A\"')\n",
    "print(data + int(data2))\n",
    "print(data2)\n",
    "data2\n",
    "data + 100"
   ]
  }
 ],
 "metadata": {
  "kernelspec": {
   "display_name": "Python 3 (ipykernel)",
   "language": "python",
   "name": "python3"
  },
  "language_info": {
   "codemirror_mode": {
    "name": "ipython",
    "version": 3
   },
   "file_extension": ".py",
   "mimetype": "text/x-python",
   "name": "python",
   "nbconvert_exporter": "python",
   "pygments_lexer": "ipython3",
   "version": "3.9.12"
  }
 },
 "nbformat": 4,
 "nbformat_minor": 5
}
