{
 "cells": [
  {
   "cell_type": "markdown",
   "id": "21e09bd5-040f-43f6-9012-9c86242f529f",
   "metadata": {},
   "source": [
    "<h1>1. Operator Aritmatika : </h1>"
   ]
  },
  {
   "cell_type": "code",
   "execution_count": 16,
   "id": "f3f9272e-d699-4e71-a76c-ffde1b8fa3f3",
   "metadata": {},
   "outputs": [
    {
     "name": "stdout",
     "output_type": "stream",
     "text": [
      "Hasil Penbagian 12 / 4 = 3.0\n",
      "Hasil Penbagian 20 / 4 = 5.0\n"
     ]
    }
   ],
   "source": [
    "#Budi memiliki 12 apel dan ingin membaginya dengan 4 temannya secara merata. Berapa apel yang diterima setiap teman?\n",
    "budi = 12 \n",
    "jumlah_teman = 4\n",
    "\n",
    "hasilbagi = budi / jumlah_teman\n",
    "\n",
    "print(\"Hasil Penbagian\",budi,\"/\",jumlah_teman,\"=\",hasilbagi)\n",
    "\n",
    "#Jika Budi mendapatkan tambahan 8 apel, berapa total apel yang dimilikinya sekarang?\n",
    "budi = 12 + 8\n",
    "jumlah_teman = 4\n",
    "\n",
    "hasilbagi = budi / jumlah_teman\n",
    "print(\"Hasil Penbagian\",budi,\"/\",jumlah_teman,\"=\",hasilbagi)"
   ]
  },
  {
   "cell_type": "markdown",
   "id": "d06805db-0f96-4091-9f79-5f61f7e266f9",
   "metadata": {},
   "source": [
    "<h1>2. Operator Perbandingan : </h1>"
   ]
  },
  {
   "cell_type": "code",
   "execution_count": 25,
   "id": "322c922d-8e3f-45c1-96c3-1ffa32c7f85c",
   "metadata": {},
   "outputs": [
    {
     "name": "stdout",
     "output_type": "stream",
     "text": [
      "160 == 165 False\n",
      "160 != 165 True\n",
      "160 > 165 False\n",
      "160 < 165 True\n",
      "160 >= 165 False\n"
     ]
    }
   ],
   "source": [
    "#Siti memiliki tinggi 160 cm, sedangkan Andi 165 cm. Gunakan operator perbandingan untuk mengetahui siapa yang lebih tinggi.\n",
    "siti = 160 \n",
    "Andi = 165 \n",
    "\n",
    "print(siti,\"==\",Andi,siti==Andi)\n",
    "print(siti,\"!=\",Andi,siti!=Andi)\n",
    "print(siti,\">\",Andi,siti>Andi)\n",
    "print(siti,\"<\",Andi,siti<Andi)\n",
    "print(siti,\">=\",Andi,siti>=Andi)"
   ]
  },
  {
   "cell_type": "markdown",
   "id": "89310794-152f-4def-87a5-34137e6db2f1",
   "metadata": {},
   "source": [
    "<h1>3. Operator Logika :</h1>"
   ]
  },
  {
   "cell_type": "code",
   "execution_count": 42,
   "id": "fe21b8f3-73f0-47cd-95d5-836bf2202714",
   "metadata": {},
   "outputs": [
    {
     "name": "stdout",
     "output_type": "stream",
     "text": [
      "apakah budi bisa bermain di luar True\n"
     ]
    }
   ],
   "source": [
    "#Budi hanya bisa bermain di luar jika cuaca cerah dan dia sudah menyelesaikan PR-nya. Gunakan operator logika untuk mengevaluasi apakah Budi bisa\n",
    "#bermain.\n",
    "\n",
    "cuacaCerah = True\n",
    "prSelesai = True\n",
    "\n",
    "bisaBermain = cuacaCerah and prSelesai\n",
    "print(\"apakah budi bisa bermain di luar\",bisaBermain)"
   ]
  },
  {
   "cell_type": "markdown",
   "id": "7142e346-3f2b-4cc6-ae49-aee0b42d63ba",
   "metadata": {},
   "source": [
    "<h1>4. Operator Bitwise : </h1>"
   ]
  },
  {
   "cell_type": "code",
   "execution_count": 55,
   "id": "8b04b1f1-f52d-41b1-a43f-ce0b213e0564",
   "metadata": {},
   "outputs": [
    {
     "name": "stdout",
     "output_type": "stream",
     "text": [
      "angka biner dari AND adalah: 0b10\n",
      "angka biner dari OR adalah: 0b111\n",
      "angka biner dari XOR adalah: 0b101\n"
     ]
    }
   ],
   "source": [
    "#Jika angka 6 direpresentasikan dalam biner sebagai 0110 dan angka 3 sebagai 0011, hitung hasil operasi AND, OR, dan XOR.\n",
    "\n",
    "num1 = 6\n",
    "num2 = 3\n",
    "\n",
    "hasilAnd = num1 & num2\n",
    "print(\"angka biner dari AND adalah:\",bin(hasilAnd))\n",
    "\n",
    "hasilOR = num1 | num2\n",
    "print(\"angka biner dari OR adalah:\",bin(hasilOR))\n",
    "\n",
    "hasilXOR = num1 ^ num2\n",
    "print(\"angka biner dari XOR adalah:\",bin(hasilXOR))"
   ]
  },
  {
   "cell_type": "markdown",
   "id": "32ac0dc0-5611-46b2-83c1-4777e2425f93",
   "metadata": {},
   "source": [
    "<h1>5. Operator Penugasan :</h1>"
   ]
  },
  {
   "cell_type": "code",
   "execution_count": 66,
   "id": "a5ceca85-69c3-4bd4-863c-44c21a609f3f",
   "metadata": {},
   "outputs": [
    {
     "name": "stdout",
     "output_type": "stream",
     "text": [
      "Saldo Awal 50.000= 50.0\n",
      "Kemudian ditambah dengan + 20.000= 70.0\n",
      "Selanjutnya Dikurai -30.000= 40.0\n"
     ]
    }
   ],
   "source": [
    "#Seorang siswa memiliki saldo pulsa Rp50.000, lalu dia mengisi ulang Rp20.000.\n",
    "#Setelah itu, dia membeli paket internet seharga Rp30.000. Gunakan operator\n",
    "#penugasan untuk menghitung sisa saldo pulsa.\n",
    "\n",
    "\n",
    "\n",
    "nilaiAwal = 50.000\n",
    "print(\"Saldo Awal 50.000=\",nilaiAwal)\n",
    "nilaiAwal+=20.000\n",
    "print(\"Kemudian ditambah dengan + 20.000=\",nilaiAwal)\n",
    "nilaiAwal-=30.000\n",
    "print(\"Selanjutnya Dikurai -30.000=\",nilaiAwal)"
   ]
  },
  {
   "cell_type": "markdown",
   "id": "706eab33-08f2-41fd-ab95-bcb00bfc3e79",
   "metadata": {},
   "source": [
    "<h1>6. Operator Keanggotaan :</h1>"
   ]
  },
  {
   "cell_type": "code",
   "execution_count": 83,
   "id": "56375c56-2339-42a4-b226-cbb4e86a741a",
   "metadata": {},
   "outputs": [
    {
     "name": "stdout",
     "output_type": "stream",
     "text": [
      "apakah terdaftar? False\n",
      "apakah kata pyhton ada di kalimat True\n"
     ]
    }
   ],
   "source": [
    "#Daftar peserta lomba coding adalah [\"Andi\", \"Budi\", \"Citra\", \"Dewi\"]. Gunakan\n",
    "#operator keanggotaan untuk mengecek apakah \"Eka\" terdaftar sebagai peserta.\n",
    "\n",
    "name = \"eka\"\n",
    "daftarPesertaLomba = [\"andi\",\"budi\",\"citra\",\"dewi\"]\n",
    "hasil = name in daftarPesertaLomba\n",
    "print(\"apakah terdaftar?\",hasil)\n",
    "\n",
    "#Sebuah kalimat berbunyi \"Saya suka belajar Python\". Gunakan operator\n",
    "#keanggotaan untuk mengecek apakah kata \"Python\" ada dalam kalimat tersebut\n",
    "\n",
    "kalimat = \"saya suka belajar bahasa pyhton\"\n",
    "kataYangDiCari = \"pyhton\"\n",
    "hasil = kataYangDiCari in kalimat\n",
    "print(\"apakah kata\",kataYangDiCari,\"ada di kalimat\",hasil)"
   ]
  },
  {
   "cell_type": "markdown",
   "id": "81617c39-eb4b-429a-ab0b-0b248c275365",
   "metadata": {},
   "source": [
    "<h1>7. Operator Identitas : </h1>\n"
   ]
  },
  {
   "cell_type": "code",
   "execution_count": 88,
   "id": "dc9f11cd-1c17-47ba-9ea4-3cce1d4a3dc5",
   "metadata": {},
   "outputs": [
    {
     "name": "stdout",
     "output_type": "stream",
     "text": [
      "apakah x dan y mangacu pada objek yang sama? True\n",
      "apakah a dan b mengacu pada objek yang sama? True\n",
      "apakah list1 dan list2 mengacu pada objek yang sama? False\n"
     ]
    }
   ],
   "source": [
    "#Jika dua variabel x dan y memiliki nilai yang sama, gunakan operator identitas\n",
    "#untuk memeriksa apakah mereka merujuk ke objek yang sama dalam memori.\n",
    "#o Buat dua list dengan isi yang sama, lalu gunakan operator identitas untuk\n",
    "#mengecek apakah kedua list tersebut mengacu ke objek yang sama.\n",
    "\n",
    "x = 54\n",
    "y = 54\n",
    "\n",
    "hasil = x is y\n",
    "print(\"apakah x dan y mangacu pada objek yang sama?\",hasil)\n",
    "\n",
    "a = \"salya\"\n",
    "b = \"salya\"\n",
    "\n",
    "hasil = a is b\n",
    "print(\"apakah a dan b mengacu pada objek yang sama?\",hasil)\n",
    "\n",
    "list1 = [\"15\",\"16\",\"17\"]\n",
    "list2 = [\"15\",\"16\",\"17\"]\n",
    "\n",
    "hasil = list1 is list2\n",
    "print(\"apakah list1 dan list2 mengacu pada objek yang sama?\",hasil)"
   ]
  },
  {
   "cell_type": "markdown",
   "id": "e06ba074-be75-46e7-bfc3-e12f5f2137bd",
   "metadata": {},
   "source": [
    "<h1>8. Operator Ternary :</h1>"
   ]
  },
  {
   "cell_type": "code",
   "execution_count": 97,
   "id": "cfac3535-06fd-4e8f-8505-e42b0a89d167",
   "metadata": {},
   "outputs": [
    {
     "name": "stdout",
     "output_type": "stream",
     "text": [
      "Lebih besar dari 100\n",
      "Tidak Lebih besar dari 100\n"
     ]
    },
    {
     "name": "stdin",
     "output_type": "stream",
     "text": [
      "isi nilai 88\n"
     ]
    },
    {
     "name": "stdout",
     "output_type": "stream",
     "text": [
      "Lulus\n"
     ]
    },
    {
     "name": "stdin",
     "output_type": "stream",
     "text": [
      "isi nilai 65\n"
     ]
    },
    {
     "name": "stdout",
     "output_type": "stream",
     "text": [
      "Tidak Lulus\n"
     ]
    }
   ],
   "source": [
    "#Gunakan operator ternary untuk menentukan apakah suatu angka lebih besar\n",
    "#dari 100.\n",
    "#o Gunakan operator ternary untuk mengembalikan \"Lulus\" jika nilai ujian lebih\n",
    "#dari 70, atau \"Tidak Lulus\" jika kurang dari 70.\n",
    "\n",
    "Angka = 300\n",
    "hasil = \"Lebih besar dari 100\" if Angka > 100 else \"Tidak Lebih besar dari 100\"\n",
    "print(hasil)\n",
    "\n",
    "Angka2 = 80\n",
    "hasil2 = \"Lebih Besar dari 100\" if Angka2 > 100 else \"Tidak Lebih besar dari 100\"\n",
    "print(hasil2)\n",
    "\n",
    "Nilai_Ujian = int(input(\"isi nilai\"))\n",
    "Status = \"Lulus\" if Nilai_Ujian > 70 else \"Tidak Lulus\"\n",
    "print(Status)\n",
    "\n",
    "Nilai_Ujian2 = int(input(\"isi nilai\"))\n",
    "Status2 = \"Lulus\" if Nilai_Ujian2 > 70 else \"Tidak Lulus\"\n",
    "print(Status2)"
   ]
  },
  {
   "cell_type": "code",
   "execution_count": null,
   "id": "5a29a2ef-9bf5-443c-8414-eb1cb034af20",
   "metadata": {},
   "outputs": [],
   "source": []
  }
 ],
 "metadata": {
  "kernelspec": {
   "display_name": "Python [conda env:base] *",
   "language": "python",
   "name": "conda-base-py"
  },
  "language_info": {
   "codemirror_mode": {
    "name": "ipython",
    "version": 3
   },
   "file_extension": ".py",
   "mimetype": "text/x-python",
   "name": "python",
   "nbconvert_exporter": "python",
   "pygments_lexer": "ipython3",
   "version": "3.12.7"
  }
 },
 "nbformat": 4,
 "nbformat_minor": 5
}
