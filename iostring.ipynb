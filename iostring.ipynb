{
 "cells": [
  {
   "cell_type": "code",
   "execution_count": 2,
   "id": "b720819e-17c8-428a-afa4-27b6f43292c1",
   "metadata": {},
   "outputs": [
    {
     "name": "stdin",
     "output_type": "stream",
     "text": [
      "Massukkan Nama Anda : Ardiansyah Saputra\n",
      "Masukkan Nim Anda : 20240040178\n",
      "Masukkan Nama Kampus :  Nusa Putra University\n",
      "Masukkan Nama Fakultas Anda :  Teknik\n",
      "Masukkan Nama Jurusan Anda :  Teknik Informatika\n",
      "Masukkan Tempat,Tanggal Lahir Anda :  Sukabumi 24 Feb 2006\n",
      "Masukkan Nama Alamat Anda :  Puri Cibeureum Permai 1\n"
     ]
    },
    {
     "name": "stdout",
     "output_type": "stream",
     "text": [
      "NAMA : Ardiansyah Saputra!\n",
      "NIM : 20240040178!\n",
      "kampus : Nusa Putra University!\n",
      "fakultas : Teknik!\n",
      "jurusan : Teknik Informatika!\n",
      "Tempat Tanggal Lahir : Sukabumi 24 Feb 2006!\n",
      "Alamat : Puri Cibeureum Permai 1!\n"
     ]
    }
   ],
   "source": [
    "nama = input (\"Massukkan Nama Anda :\")\n",
    "nim = input (\"Masukkan Nim Anda :\")\n",
    "kampus = input (\"Masukkan Nama Kampus : \")\n",
    "fakultas = input (\"Masukkan Nama Fakultas Anda : \")\n",
    "jurusan = input (\"Masukkan Nama Jurusan Anda : \")\n",
    "TempatTanggalLahir = input (\"Masukkan Tempat,Tanggal Lahir Anda : \")\n",
    "Alamat = input (\"Masukkan Nama Alamat Anda : \")\n",
    "\n",
    "print(\"NAMA : \" + nama + \"!\")\n",
    "print(\"NIM : \" + nim + \"!\")\n",
    "print(\"kampus : \" + kampus + \"!\")\n",
    "print(\"fakultas : \" + fakultas + \"!\")\n",
    "print(\"jurusan : \" + jurusan + \"!\")\n",
    "print(\"Tempat Tanggal Lahir : \" + TempatTanggalLahir + \"!\")\n",
    "print(\"Alamat : \" + Alamat + \"!\")"
   ]
  },
  {
   "cell_type": "code",
   "execution_count": 3,
   "id": "ce28d3d5-f519-40b7-9d60-0e72d0d73a80",
   "metadata": {},
   "outputs": [
    {
     "name": "stdout",
     "output_type": "stream",
     "text": [
      "UNIVERSITAS NUSA PUTRA SUKABUMI\n",
      "\n",
      "a.nusa putra\n",
      "\n",
      "\n",
      "b.UNIVERSITAS NUSA PUTRA SUKABUMI\n",
      "\n",
      "\n",
      "c.SUKABUMI PUTRA NUSA UNIVERSITAS\n",
      "\n",
      "d.UNPS\n",
      "\n",
      "\n",
      "e.NUS APUT RASUKA BUMI\n",
      "0\n"
     ]
    }
   ],
   "source": [
    "# menampilkan String ke layar\n",
    "pesan = \"UNIVERSITAS NUSA PUTRA SUKABUMI\"\n",
    "print(pesan)\n",
    "\n",
    "#1.Mengubah semua huruf menjadi kapital\n",
    "print(\"\\na.nusa putra\")\n",
    "print(\"\".upper())\n",
    "\n",
    "#2.Mengubah Semua Huruf Menjadi Huruf Kecil:\n",
    "print(\"\\nb.UNIVERSITAS NUSA PUTRA SUKABUMI\")\n",
    "print(\"\".lower())\n",
    "\n",
    "#3.Mengubah Huruf Pertama Menjadi Kapital:\n",
    "print(\"\\nc.SUKABUMI PUTRA NUSA UNIVERSITAS\")\n",
    "\n",
    "#4.Memotong String (Mengambil 5 Karakter Pertama):\n",
    "print(\"\\nd.UNPS\")\n",
    "print(\"\"[:5])\n",
    "\n",
    "#6.Menghitung Jumlah Karakter Dalam String:\n",
    "print(\"\\ne.NUS APUT RASUKA BUMI\")\n",
    "print(len(\"\"))"
   ]
  },
  {
   "cell_type": "code",
   "execution_count": null,
   "id": "77616a93-7534-4730-81e8-441dc80600a9",
   "metadata": {},
   "outputs": [],
   "source": []
  }
 ],
 "metadata": {
  "kernelspec": {
   "display_name": "anaconda-panel-2023.05-py310",
   "language": "python",
   "name": "conda-env-anaconda-panel-2023.05-py310-py"
  },
  "language_info": {
   "codemirror_mode": {
    "name": "ipython",
    "version": 3
   },
   "file_extension": ".py",
   "mimetype": "text/x-python",
   "name": "python",
   "nbconvert_exporter": "python",
   "pygments_lexer": "ipython3",
   "version": "3.11.5"
  }
 },
 "nbformat": 4,
 "nbformat_minor": 5
}
